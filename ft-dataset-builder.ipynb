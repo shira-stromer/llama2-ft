{
 "cells": [
  {
   "cell_type": "markdown",
   "metadata": {},
   "source": [
    "<h1>Dataset Builder for LLM FT with 🤗 </h1>"
   ]
  },
  {
   "cell_type": "code",
   "execution_count": 2,
   "metadata": {},
   "outputs": [
    {
     "name": "stdout",
     "output_type": "stream",
     "text": [
      "shirastromer\n"
     ]
    }
   ],
   "source": [
    "import os\n",
    "from huggingface_hub.hf_api import HfFolder\n",
    "HfFolder.save_token(os.environ['HUGGING_FACE_WRITE'])\n",
    "!huggingface-cli whoami"
   ]
  },
  {
   "cell_type": "code",
   "execution_count": 13,
   "metadata": {},
   "outputs": [],
   "source": [
    "from datasets import load_dataset\n",
    "from dataclasses import dataclass\n",
    "from typing import List\n",
    "import pandas as pd\n",
    "from datasets import Dataset"
   ]
  },
  {
   "cell_type": "code",
   "execution_count": 16,
   "metadata": {},
   "outputs": [],
   "source": [
    "HF_REPO_NAME = '<dataset_repo_name>'"
   ]
  },
  {
   "cell_type": "markdown",
   "metadata": {},
   "source": [
    "<h2>Define the Chat structure 💬</h2>"
   ]
  },
  {
   "cell_type": "code",
   "execution_count": 11,
   "metadata": {},
   "outputs": [
    {
     "name": "stdout",
     "output_type": "stream",
     "text": [
      "### Human: hello, how are you today?### Assistant: I'm doing good, how are you?\n",
      "### Human: What is the weather today?### Assistant: As an AI language model, I don't have access to real-time data such as current weather conditions\n"
     ]
    }
   ],
   "source": [
    "@dataclass\n",
    "class Message:\n",
    "    source: str\n",
    "    content: str\n",
    "    \n",
    "    def __post_init__(self):\n",
    "            allowed_sources = {'Human', 'Assistant'} \n",
    "            \n",
    "            if self.source not in allowed_sources:\n",
    "                raise ValueError(f\"Invalid source: {self.source}. Allowed values: {', '.join(allowed_sources)}\")\n",
    "            \n",
    "    def __str__(self):\n",
    "         return f\"### {self.source}: {self.content}\"\n",
    "    \n",
    "@dataclass\n",
    "class Chat:\n",
    "    messages: List[Message]\n",
    "\n",
    "    def __init__(self, *messages) -> None:\n",
    "        self.messages = messages\n",
    "        pass\n",
    "\n",
    "    def __str__(self):\n",
    "        return \"\".join([str(m) for m in self.messages])\n",
    "\n",
    "chat1 = Chat(\\\n",
    "            Message('Human', 'hello, how are you today?'),\n",
    "            Message('Assistant', 'I\\'m doing good, how are you?'))\n",
    "\n",
    "chat2 = Chat(\\\n",
    "            Message('Human', 'What is the weather today?'),\n",
    "            Message('Assistant', 'As an AI language model, I don\\'t have access to real-time data such as current weather conditions')\n",
    "            )\n",
    "\n",
    "print(chat1)\n",
    "print(chat2)\n",
    "chat1, str(chat2)\n",
    "chat_samples = [chat1, chat2]"
   ]
  },
  {
   "cell_type": "markdown",
   "metadata": {},
   "source": [
    "<h2>Push to Hub ☁️</h2>"
   ]
  },
  {
   "cell_type": "code",
   "execution_count": 8,
   "metadata": {},
   "outputs": [
    {
     "data": {
      "application/vnd.jupyter.widget-view+json": {
       "model_id": "a5f34a31a0974b4ba8508670da87e188",
       "version_major": 2,
       "version_minor": 0
      },
      "text/plain": [
       "Uploading the dataset shards:   0%|          | 0/1 [00:00<?, ?it/s]"
      ]
     },
     "metadata": {},
     "output_type": "display_data"
    },
    {
     "data": {
      "application/vnd.jupyter.widget-view+json": {
       "model_id": "aa88da5381aa4bcb97565aed5d67d9fb",
       "version_major": 2,
       "version_minor": 0
      },
      "text/plain": [
       "Creating parquet from Arrow format:   0%|          | 0/1 [00:00<?, ?ba/s]"
      ]
     },
     "metadata": {},
     "output_type": "display_data"
    },
    {
     "data": {
      "application/vnd.jupyter.widget-view+json": {
       "model_id": "7d25eaf072a741518a9f162cb10955c6",
       "version_major": 2,
       "version_minor": 0
      },
      "text/plain": [
       "README.md:   0%|          | 0.00/277 [00:00<?, ?B/s]"
      ]
     },
     "metadata": {},
     "output_type": "display_data"
    },
    {
     "data": {
      "text/plain": [
       "CommitInfo(commit_url='https://huggingface.co/datasets/shirastromer/pantry-ai-receipt-ocr-amount/commit/a05fbc34257d9d7056cb05318f2440251743234b', commit_message='Loading sample data for pantry ai ocr amount', commit_description='', oid='a05fbc34257d9d7056cb05318f2440251743234b', pr_url=None, pr_revision=None, pr_num=None)"
      ]
     },
     "execution_count": 8,
     "metadata": {},
     "output_type": "execute_result"
    }
   ],
   "source": [
    "dataset = Dataset.from_pandas(pd.DataFrame([{\"text\": str(c)} for c in chat_samples]))\n",
    "dataset.push_to_hub(HF_REPO_NAME, commit_message=f'Loading sample data to {HF_REPO_NAME}')"
   ]
  },
  {
   "cell_type": "code",
   "execution_count": 17,
   "metadata": {},
   "outputs": [
    {
     "data": {
      "text/plain": [
       "DatasetDict({\n",
       "    train: Dataset({\n",
       "        features: ['text'],\n",
       "        num_rows: 2\n",
       "    })\n",
       "})"
      ]
     },
     "execution_count": 17,
     "metadata": {},
     "output_type": "execute_result"
    }
   ],
   "source": [
    "load_dataset(HF_REPO_NAME)"
   ]
  }
 ],
 "metadata": {
  "kernelspec": {
   "display_name": "Default",
   "language": "python",
   "name": "python3"
  },
  "language_info": {
   "codemirror_mode": {
    "name": "ipython",
    "version": 3
   },
   "file_extension": ".py",
   "mimetype": "text/x-python",
   "name": "python",
   "nbconvert_exporter": "python",
   "pygments_lexer": "ipython3",
   "version": "3.9.6"
  }
 },
 "nbformat": 4,
 "nbformat_minor": 2
}
